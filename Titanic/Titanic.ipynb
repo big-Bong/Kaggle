{
 "cells": [
  {
   "cell_type": "code",
   "execution_count": 72,
   "metadata": {
    "collapsed": true
   },
   "outputs": [],
   "source": [
    "import pandas as pd\n",
    "import numpy as np\n",
    "from sklearn import svm\n",
    "from sklearn.ensemble import AdaBoostClassifier\n",
    "from sklearn.ensemble import RandomForestClassifier\n",
    "from sklearn.neural_network import MLPClassifier\n",
    "from sklearn import decomposition\n",
    "from sklearn import preprocessing \n",
    "from sklearn.metrics import accuracy_score\n",
    "from sklearn.model_selection import train_test_split\n",
    "from sklearn.model_selection import GridSearchCV\n",
    "import matplotlib.pyplot as plt\n",
    "import seaborn as sns"
   ]
  },
  {
   "cell_type": "code",
   "execution_count": 73,
   "metadata": {},
   "outputs": [
    {
     "name": "stdout",
     "output_type": "stream",
     "text": [
      "<class 'pandas.core.frame.DataFrame'>\n",
      "RangeIndex: 891 entries, 0 to 890\n",
      "Data columns (total 12 columns):\n",
      "PassengerId    891 non-null int64\n",
      "Survived       891 non-null int64\n",
      "Pclass         891 non-null int64\n",
      "Name           891 non-null object\n",
      "Sex            891 non-null object\n",
      "Age            714 non-null float64\n",
      "SibSp          891 non-null int64\n",
      "Parch          891 non-null int64\n",
      "Ticket         891 non-null object\n",
      "Fare           891 non-null float64\n",
      "Cabin          204 non-null object\n",
      "Embarked       889 non-null object\n",
      "dtypes: float64(2), int64(5), object(5)\n",
      "memory usage: 83.6+ KB\n"
     ]
    }
   ],
   "source": [
    "df_train = pd.read_csv('train.csv')\n",
    "df_test = pd.read_csv('test.csv')\n",
    "df_result = df_test[['PassengerId']].copy()\n",
    "df_result['Survived'] = pd.Series(np.random.randn(len(df_result)), index=df_result.index)\n",
    "df_train.info()"
   ]
  },
  {
   "cell_type": "code",
   "execution_count": 74,
   "metadata": {
    "collapsed": true
   },
   "outputs": [],
   "source": [
    "def normalizeDf(df):\n",
    "    temp = df.values\n",
    "    min_max_scaler = preprocessing.MinMaxScaler()\n",
    "    temp_scaled = min_max_scaler.fit_transform(temp)\n",
    "    df = pd.DataFrame(temp_scaled)\n",
    "    df.columns = ['Pclass','Sex','Age','SibSp','Parch','Fare','Embarked']\n",
    "    return df"
   ]
  },
  {
   "cell_type": "code",
   "execution_count": 75,
   "metadata": {
    "collapsed": true
   },
   "outputs": [],
   "source": [
    "df_train = df_train.fillna(0)\n",
    "df_test = df_test.fillna(0)\n",
    "fare_mean = df_train['Fare'].mean()\n",
    "fare_median = df_train['Fare'].median()\n",
    "\n",
    "\"\"\"for i in range(0,len(df_train['Fare'])):\n",
    "    val = df_train.iloc[i]['Fare']\n",
    "    if(val<=fare_median):\n",
    "        df_train.at[i,'Fare']  = 1\n",
    "    elif(val>fare_median and val<=fare_mean):\n",
    "        df_train.at[i,'Fare'] = 2\n",
    "    else:\n",
    "        df_train.at[i,'Fare'] = 3\n",
    "\n",
    "for i in range(0, len(df_test['Fare'])):\n",
    "    val = df_test.iloc[i]['Fare']\n",
    "    if(val<=fare_median):\n",
    "        df_test.at[i,'Fare'] = 1\n",
    "    elif(val>fare_median and val<=fare_mean):\n",
    "        df_test.at[i,'Fare'] = 2\n",
    "    else:\n",
    "        df_test.at[i,'Fare'] = 3\"\"\"\n",
    "        \n",
    "        \n",
    "\"\"\"for i in range(0,len(df_train['Age'])):\n",
    "    val = df_train.iloc[i]['Age']\n",
    "    if(val<=15):\n",
    "        df_train.at[i,'Age']  = 1\n",
    "    elif(val>15 and val<=50):\n",
    "        df_train.at[i,'Age'] = 2\n",
    "    else:\n",
    "        df_train.at[i,'Age'] = 3\n",
    "\n",
    "for i in range(0, len(df_test['Age'])):\n",
    "    val = df_test.iloc[i]['Age']\n",
    "    if(val<=15):\n",
    "        df_test.at[i,'Age'] = 1\n",
    "    elif(val>15 and val<=50):\n",
    "        df_test.at[i,'Age'] = 2\n",
    "    else:\n",
    "        df_test.at[i,'Age'] = 3\"\"\"\n",
    "\n",
    "df_train['Sex'].replace(['female','male'],[1,2],inplace=True)\n",
    "df_test['Sex'].replace(['female','male'],[1,2],inplace=True)\n",
    "df_train['Embarked'].replace(['Q','S','C'],[1,2,3],inplace=True)\n",
    "df_test['Embarked'].replace(['Q','S','C'],[1,2,3],inplace=True)\n",
    "\n",
    "#df_train_mod = normalizeDf(df_train[['Pclass','Sex','Age','SibSp','Parch','Fare','Embarked']])\n",
    "#df_test_mod = normalizeDf(df_test[['Pclass','Sex','Age','SibSp','Parch','Fare','Embarked']])\n",
    "#df_test['Pclass'] = (eg_array - eg_array.mean(axis=0)) / eg_array.std(axis=0)\n",
    "\n",
    "#X = df_train[['Pclass..','Sex..','Age0.015','SibSp','Parch..','Fare..0.3','Embarked..']]\n",
    "X = df_train[['Pclass','Sex','Age','SibSp','Parch','Fare','Embarked']]\n",
    "y = df_train['Survived']\n",
    "\n",
    "X_train, X_test, y_train, y_test = train_test_split(X,y,test_size=0.15,random_state=42)\n",
    "X_toTest = df_test[['Pclass','Sex','Age','SibSp','Parch','Fare','Embarked']]"
   ]
  },
  {
   "cell_type": "code",
   "execution_count": 77,
   "metadata": {},
   "outputs": [
    {
     "data": {
      "image/png": "[encoded data removed]",
      "text/plain": [
       "<matplotlib.figure.Figure at 0x11913a250>"
      ]
     },
     "metadata": {},
     "output_type": "display_data"
    }
   ],
   "source": [
    "#Data analysis starts\n",
    "sns.set_style('ticks')\n",
    "fig, ax = plt.subplots()\n",
    "fig.set_size_inches(11.7, 8.27)\n",
    "corr = df_train[['Survived','Fare']].corr()\n",
    "sns.heatmap(corr,xticklabels=corr.columns.values,\n",
    "           yticklabels=corr.columns.values,\n",
    "          ax=ax,vmin=0,vmax=1,annot=True)\n",
    "plt.show()"
   ]
  },
  {
   "cell_type": "code",
   "execution_count": 129,
   "metadata": {},
   "outputs": [
    {
     "data": {
      "text/html": [
       "<div>\n",
       "<style scoped>\n",
       "    .dataframe tbody tr th:only-of-type {\n",
       "        vertical-align: middle;\n",
       "    }\n",
       "\n",
       "    .dataframe tbody tr th {\n",
       "        vertical-align: top;\n",
       "    }\n",
       "\n",
       "    .dataframe thead th {\n",
       "        text-align: right;\n",
       "    }\n",
       "</style>\n",
       "<table border=\"1\" class=\"dataframe\">\n",
       "  <thead>\n",
       "    <tr style=\"text-align: right;\">\n",
       "      <th></th>\n",
       "      <th>Pclass</th>\n",
       "      <th>Sex</th>\n",
       "      <th>Age</th>\n",
       "      <th>SibSp</th>\n",
       "      <th>Parch</th>\n",
       "      <th>Fare</th>\n",
       "      <th>Embarked</th>\n",
       "    </tr>\n",
       "  </thead>\n",
       "  <tbody>\n",
       "    <tr>\n",
       "      <th>599</th>\n",
       "      <td>1</td>\n",
       "      <td>2</td>\n",
       "      <td>2.0</td>\n",
       "      <td>1</td>\n",
       "      <td>0</td>\n",
       "      <td>3.0</td>\n",
       "      <td>3</td>\n",
       "    </tr>\n",
       "    <tr>\n",
       "      <th>830</th>\n",
       "      <td>3</td>\n",
       "      <td>1</td>\n",
       "      <td>1.0</td>\n",
       "      <td>1</td>\n",
       "      <td>0</td>\n",
       "      <td>1.0</td>\n",
       "      <td>3</td>\n",
       "    </tr>\n",
       "    <tr>\n",
       "      <th>306</th>\n",
       "      <td>1</td>\n",
       "      <td>1</td>\n",
       "      <td>1.0</td>\n",
       "      <td>0</td>\n",
       "      <td>0</td>\n",
       "      <td>3.0</td>\n",
       "      <td>3</td>\n",
       "    </tr>\n",
       "    <tr>\n",
       "      <th>231</th>\n",
       "      <td>3</td>\n",
       "      <td>2</td>\n",
       "      <td>2.0</td>\n",
       "      <td>0</td>\n",
       "      <td>0</td>\n",
       "      <td>1.0</td>\n",
       "      <td>2</td>\n",
       "    </tr>\n",
       "    <tr>\n",
       "      <th>845</th>\n",
       "      <td>3</td>\n",
       "      <td>2</td>\n",
       "      <td>2.0</td>\n",
       "      <td>0</td>\n",
       "      <td>0</td>\n",
       "      <td>1.0</td>\n",
       "      <td>2</td>\n",
       "    </tr>\n",
       "    <tr>\n",
       "      <th>49</th>\n",
       "      <td>3</td>\n",
       "      <td>1</td>\n",
       "      <td>2.0</td>\n",
       "      <td>1</td>\n",
       "      <td>0</td>\n",
       "      <td>2.0</td>\n",
       "      <td>2</td>\n",
       "    </tr>\n",
       "  </tbody>\n",
       "</table>\n",
       "</div>"
      ],
      "text/plain": [
       "     Pclass  Sex  Age  SibSp  Parch  Fare  Embarked\n",
       "599       1    2  2.0      1      0   3.0         3\n",
       "830       3    1  1.0      1      0   1.0         3\n",
       "306       1    1  1.0      0      0   3.0         3\n",
       "231       3    2  2.0      0      0   1.0         2\n",
       "845       3    2  2.0      0      0   1.0         2\n",
       "49        3    1  2.0      1      0   2.0         2"
      ]
     },
     "execution_count": 129,
     "metadata": {},
     "output_type": "execute_result"
    }
   ],
   "source": [
    "X_train.head(6)"
   ]
  },
  {
   "cell_type": "code",
   "execution_count": 130,
   "metadata": {},
   "outputs": [
    {
     "data": {
      "text/plain": [
       "StandardScaler(copy=True, with_mean=True, with_std=True)"
      ]
     },
     "execution_count": 130,
     "metadata": {},
     "output_type": "execute_result"
    }
   ],
   "source": [
    "scaler = preprocessing.StandardScaler()\n",
    "# Fit only to the training data\n",
    "scaler.fit(X_train)"
   ]
  },
  {
   "cell_type": "code",
   "execution_count": 131,
   "metadata": {
    "collapsed": true
   },
   "outputs": [],
   "source": [
    "X_train = scaler.transform(X_train)\n",
    "X_test = scaler.transform(X_test)\n",
    "X_toTest = scaler.transform(X_toTest)"
   ]
  },
  {
   "cell_type": "code",
   "execution_count": 132,
   "metadata": {},
   "outputs": [
    {
     "data": {
      "text/plain": [
       "'pca = decomposition.PCA()\\nX_train = pca.fit_transform(X_train)\\nX_test = pca.transform(X_test)\\nX_toTest = pca.transform(X_toTest)'"
      ]
     },
     "execution_count": 132,
     "metadata": {},
     "output_type": "execute_result"
    }
   ],
   "source": [
    "\"\"\"pca = decomposition.PCA()\n",
    "X_train = pca.fit_transform(X_train)\n",
    "X_test = pca.transform(X_test)\n",
    "X_toTest = pca.transform(X_toTest)\"\"\""
   ]
  },
  {
   "cell_type": "code",
   "execution_count": 133,
   "metadata": {},
   "outputs": [
    {
     "data": {
      "text/plain": [
       "\"tuned_parameters = [{'kernel': ['linear'], 'C': [0.0001,0.001,0.01,0.1, 1, 10]}]\\nclf = GridSearchCV(svm.SVC(), tuned_parameters, cv=5)\""
      ]
     },
     "execution_count": 133,
     "metadata": {},
     "output_type": "execute_result"
    }
   ],
   "source": [
    "\"\"\"tuned_parameters = [{'kernel': ['linear'], 'C': [0.0001,0.001,0.01,0.1, 1, 10]}]\n",
    "clf = GridSearchCV(svm.SVC(), tuned_parameters, cv=5)\"\"\""
   ]
  },
  {
   "cell_type": "code",
   "execution_count": 134,
   "metadata": {},
   "outputs": [
    {
     "data": {
      "text/plain": [
       "MLPClassifier(activation='relu', alpha=0.0001, batch_size='auto', beta_1=0.9,\n",
       "       beta_2=0.999, early_stopping=False, epsilon=1e-08,\n",
       "       hidden_layer_sizes=(4,), learning_rate='constant',\n",
       "       learning_rate_init=0.001, max_iter=200, momentum=0.9,\n",
       "       nesterovs_momentum=True, power_t=0.5, random_state=None,\n",
       "       shuffle=True, solver='adam', tol=0.0001, validation_fraction=0.1,\n",
       "       verbose=False, warm_start=False)"
      ]
     },
     "execution_count": 134,
     "metadata": {},
     "output_type": "execute_result"
    }
   ],
   "source": [
    "#clf = AdaBoostClassifier(RandomForestClassifier(max_depth=1),algorithm=\"SAMME\",n_estimators=200)\n",
    "clf = MLPClassifier(hidden_layer_sizes=(4,))\n",
    "#clf = RandomForestClassifier()\n",
    "clf.fit(X_train, y_train)\n",
    "#print(clf.best_params_)"
   ]
  },
  {
   "cell_type": "code",
   "execution_count": 135,
   "metadata": {},
   "outputs": [
    {
     "data": {
      "text/plain": [
       "'y_pred = clf.predict(X_test)\\nacc = accuracy_score(y_test,y_pred)\\nacc'"
      ]
     },
     "execution_count": 135,
     "metadata": {},
     "output_type": "execute_result"
    }
   ],
   "source": [
    "y_pred = clf.predict(X_toTest)\n",
    "\"\"\"y_pred = clf.predict(X_test)\n",
    "acc = accuracy_score(y_test,y_pred)\n",
    "acc\"\"\""
   ]
  },
  {
   "cell_type": "code",
   "execution_count": 136,
   "metadata": {
    "collapsed": true
   },
   "outputs": [],
   "source": [
    "df_result['Survived'] = y_pred\n",
    "df_result.to_csv('submission.csv')"
   ]
  },
  {
   "cell_type": "code",
   "execution_count": null,
   "metadata": {
    "collapsed": true
   },
   "outputs": [],
   "source": []
  }
 ],
 "metadata": {
  "kernelspec": {
   "display_name": "Python [default]",
   "language": "python",
   "name": "python2"
  },
  "language_info": {
   "codemirror_mode": {
    "name": "ipython",
    "version": 2
   },
   "file_extension": ".py",
   "mimetype": "text/x-python",
   "name": "python",
   "nbconvert_exporter": "python",
   "pygments_lexer": "ipython2",
   "version": "2.7.13"
  }
 },
 "nbformat": 4,
 "nbformat_minor": 2
}
