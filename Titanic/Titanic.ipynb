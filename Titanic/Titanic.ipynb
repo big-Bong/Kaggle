{
 "cells": [
  {
   "cell_type": "code",
   "execution_count": 30,
   "metadata": {
    "collapsed": true
   },
   "outputs": [],
   "source": [
    "import pandas as pd\n",
    "from sklearn import svm\n",
    "from sklearn import tree\n",
    "from sklearn.ensemble import AdaBoostClassifier\n",
    "from sklearn.ensemble import RandomForestClassifier\n",
    "from sklearn import decomposition\n",
    "from sklearn.naive_bayes import GaussianNB\n",
    "from sklearn import preprocessing\n",
    "from sklearn.metrics import accuracy_score\n",
    "from sklearn.model_selection import train_test_split\n",
    "from sklearn.model_selection import GridSearchCV\n",
    "import numpy as np\n",
    "import matplotlib.pyplot as plt"
   ]
  },
  {
   "cell_type": "code",
   "execution_count": 31,
   "metadata": {},
   "outputs": [
    {
     "name": "stdout",
     "output_type": "stream",
     "text": [
      "<class 'pandas.core.frame.DataFrame'>\n",
      "RangeIndex: 891 entries, 0 to 890\n",
      "Data columns (total 12 columns):\n",
      "PassengerId    891 non-null int64\n",
      "Survived       891 non-null int64\n",
      "Pclass         891 non-null int64\n",
      "Name           891 non-null object\n",
      "Sex            891 non-null object\n",
      "Age            714 non-null float64\n",
      "SibSp          891 non-null int64\n",
      "Parch          891 non-null int64\n",
      "Ticket         891 non-null object\n",
      "Fare           891 non-null float64\n",
      "Cabin          204 non-null object\n",
      "Embarked       889 non-null object\n",
      "dtypes: float64(2), int64(5), object(5)\n",
      "memory usage: 83.6+ KB\n"
     ]
    }
   ],
   "source": [
    "df_train = pd.read_csv('train.csv')\n",
    "df_test = pd.read_csv('test.csv')\n",
    "df_result = df_test[['PassengerId']].copy()\n",
    "df_result['Survived'] = pd.Series(np.random.randn(len(df_result)), index=df_result.index)\n",
    "df_train.info()"
   ]
  },
  {
   "cell_type": "code",
   "execution_count": 15,
   "metadata": {},
   "outputs": [
    {
     "data": {
      "text/plain": [
       "'fig = plt.figure()\\nax = fig.add_subplot(1,1,1)\\nax.set_xlabel(\\'Survived?\\')\\nax.set_ylabel(\\'No of people\\')\\nax.set_title(\"Total survived vs not survived\")\\npd.value_counts(df_train[\\'Survived\\']).plot.bar()\\n#df_train[\\'Survived\\'].plot(kind=\\'bar\\')\\nplt.show()'"
      ]
     },
     "execution_count": 15,
     "metadata": {},
     "output_type": "execute_result"
    }
   ],
   "source": [
    "\"\"\"fig = plt.figure()\n",
    "ax = fig.add_subplot(1,1,1)\n",
    "ax.set_xlabel('Survived?')\n",
    "ax.set_ylabel('No of people')\n",
    "ax.set_title(\"Total survived vs not survived\")\n",
    "pd.value_counts(df_train['Survived']).plot.bar()\n",
    "#df_train['Survived'].plot(kind='bar')\n",
    "plt.show()\"\"\""
   ]
  },
  {
   "cell_type": "code",
   "execution_count": 32,
   "metadata": {
    "collapsed": true
   },
   "outputs": [],
   "source": [
    "def normalizeDf(df):\n",
    "    temp = df.values\n",
    "    min_max_scaler = preprocessing.MinMaxScaler()\n",
    "    temp_scaled = min_max_scaler.fit_transform(temp)\n",
    "    df = pd.DataFrame(temp_scaled)\n",
    "    df.columns = ['Pclass','Sex','Age','SibSp','Parch','Fare','Embarked']\n",
    "    return df"
   ]
  },
  {
   "cell_type": "code",
   "execution_count": 33,
   "metadata": {
    "collapsed": true
   },
   "outputs": [],
   "source": [
    "df_train = df_train.fillna(0)\n",
    "df_test = df_test.fillna(0)\n",
    "fare_mean = df_train['Fare'].mean()\n",
    "fare_median = df_train['Fare'].median()\n",
    "\n",
    "for i in range(0,len(df_train['Fare'])):\n",
    "    val = df_train.iloc[i]['Fare']\n",
    "    if(val<=fare_median):\n",
    "        df_train.at[i,'Fare']  = 1\n",
    "    elif(val>fare_median and val<=fare_mean):\n",
    "        df_train.at[i,'Fare'] = 2\n",
    "    else:\n",
    "        df_train.at[i,'Fare'] = 3\n",
    "\n",
    "for i in range(0, len(df_test['Fare'])):\n",
    "    val = df_test.iloc[i]['Fare']\n",
    "    if(val<=fare_median):\n",
    "        df_test.at[i,'Fare'] = 1\n",
    "    elif(val>fare_median and val<=fare_mean):\n",
    "        df_test.at[i,'Fare'] = 2\n",
    "    else:\n",
    "        df_test.at[i,'Fare'] = 3\n",
    "        \n",
    "        \n",
    "for i in range(0,len(df_train['Age'])):\n",
    "    val = df_train.iloc[i]['Age']\n",
    "    if(val<=15):\n",
    "        df_train.at[i,'Age']  = 1\n",
    "    elif(val>15 and val<=50):\n",
    "        df_train.at[i,'Age'] = 2\n",
    "    else:\n",
    "        df_train.at[i,'Age'] = 3\n",
    "\n",
    "for i in range(0, len(df_test['Age'])):\n",
    "    val = df_test.iloc[i]['Age']\n",
    "    if(val<=15):\n",
    "        df_test.at[i,'Age'] = 1\n",
    "    elif(val>15 and val<=50):\n",
    "        df_test.at[i,'Age'] = 2\n",
    "    else:\n",
    "        df_test.at[i,'Age'] = 3\n",
    "\n",
    "df_train['Sex'].replace(['female','male'],[1,2],inplace=True)\n",
    "df_test['Sex'].replace(['female','male'],[1,2],inplace=True)\n",
    "df_train['Embarked'].replace(['Q','S','C'],[1,2,3],inplace=True)\n",
    "df_test['Embarked'].replace(['Q','S','C'],[1,2,3],inplace=True)\n",
    "\n",
    "#df_train_mod = normalizeDf(df_train[['Pclass','Sex','Age','SibSp','Parch','Fare','Embarked']])\n",
    "#df_test_mod = normalizeDf(df_test[['Pclass','Sex','Age','SibSp','Parch','Fare','Embarked']])\n",
    "#df_test['Pclass'] = (eg_array - eg_array.mean(axis=0)) / eg_array.std(axis=0)\n",
    "\n",
    "X = df_train[['Pclass','Sex','Age','SibSp','Parch','Fare','Embarked']]\n",
    "y = df_train['Survived']\n",
    "\n",
    "X_train, X_test, y_train, y_test = train_test_split(X,y,test_size=0.33,random_state=42)\n",
    "\n",
    "#X_train = df_train[['Pclass','Sex','Age','SibSp','Parch','Fare','Embarked']]\n",
    "#Y_train = df_train['Survived']\n",
    "\n",
    "X_toTest = df_test[['Pclass','Sex','Age','SibSp','Parch','Fare','Embarked']]"
   ]
  },
  {
   "cell_type": "code",
   "execution_count": 34,
   "metadata": {},
   "outputs": [
    {
     "data": {
      "text/html": [
       "<div>\n",
       "<style scoped>\n",
       "    .dataframe tbody tr th:only-of-type {\n",
       "        vertical-align: middle;\n",
       "    }\n",
       "\n",
       "    .dataframe tbody tr th {\n",
       "        vertical-align: top;\n",
       "    }\n",
       "\n",
       "    .dataframe thead th {\n",
       "        text-align: right;\n",
       "    }\n",
       "</style>\n",
       "<table border=\"1\" class=\"dataframe\">\n",
       "  <thead>\n",
       "    <tr style=\"text-align: right;\">\n",
       "      <th></th>\n",
       "      <th>Pclass</th>\n",
       "      <th>Sex</th>\n",
       "      <th>Age</th>\n",
       "      <th>SibSp</th>\n",
       "      <th>Parch</th>\n",
       "      <th>Fare</th>\n",
       "      <th>Embarked</th>\n",
       "    </tr>\n",
       "  </thead>\n",
       "  <tbody>\n",
       "    <tr>\n",
       "      <th>6</th>\n",
       "      <td>1</td>\n",
       "      <td>2</td>\n",
       "      <td>3.0</td>\n",
       "      <td>0</td>\n",
       "      <td>0</td>\n",
       "      <td>3.0</td>\n",
       "      <td>2</td>\n",
       "    </tr>\n",
       "    <tr>\n",
       "      <th>718</th>\n",
       "      <td>3</td>\n",
       "      <td>2</td>\n",
       "      <td>1.0</td>\n",
       "      <td>0</td>\n",
       "      <td>0</td>\n",
       "      <td>2.0</td>\n",
       "      <td>1</td>\n",
       "    </tr>\n",
       "    <tr>\n",
       "      <th>685</th>\n",
       "      <td>2</td>\n",
       "      <td>2</td>\n",
       "      <td>2.0</td>\n",
       "      <td>1</td>\n",
       "      <td>2</td>\n",
       "      <td>3.0</td>\n",
       "      <td>3</td>\n",
       "    </tr>\n",
       "    <tr>\n",
       "      <th>73</th>\n",
       "      <td>3</td>\n",
       "      <td>2</td>\n",
       "      <td>2.0</td>\n",
       "      <td>1</td>\n",
       "      <td>0</td>\n",
       "      <td>1.0</td>\n",
       "      <td>3</td>\n",
       "    </tr>\n",
       "    <tr>\n",
       "      <th>882</th>\n",
       "      <td>3</td>\n",
       "      <td>1</td>\n",
       "      <td>2.0</td>\n",
       "      <td>0</td>\n",
       "      <td>0</td>\n",
       "      <td>1.0</td>\n",
       "      <td>2</td>\n",
       "    </tr>\n",
       "    <tr>\n",
       "      <th>328</th>\n",
       "      <td>3</td>\n",
       "      <td>1</td>\n",
       "      <td>2.0</td>\n",
       "      <td>1</td>\n",
       "      <td>1</td>\n",
       "      <td>2.0</td>\n",
       "      <td>2</td>\n",
       "    </tr>\n",
       "  </tbody>\n",
       "</table>\n",
       "</div>"
      ],
      "text/plain": [
       "     Pclass  Sex  Age  SibSp  Parch  Fare  Embarked\n",
       "6         1    2  3.0      0      0   3.0         2\n",
       "718       3    2  1.0      0      0   2.0         1\n",
       "685       2    2  2.0      1      2   3.0         3\n",
       "73        3    2  2.0      1      0   1.0         3\n",
       "882       3    1  2.0      0      0   1.0         2\n",
       "328       3    1  2.0      1      1   2.0         2"
      ]
     },
     "execution_count": 34,
     "metadata": {},
     "output_type": "execute_result"
    }
   ],
   "source": [
    "X_train.head(6)"
   ]
  },
  {
   "cell_type": "code",
   "execution_count": 19,
   "metadata": {
    "collapsed": true
   },
   "outputs": [],
   "source": [
    "pca = decomposition.PCA()\n",
    "X_train = pca.fit_transform(X_train)\n",
    "X_test = pca.transform(X_test)\n",
    "X_toTest = pca.transform(X_toTest)"
   ]
  },
  {
   "cell_type": "code",
   "execution_count": 20,
   "metadata": {
    "collapsed": true
   },
   "outputs": [],
   "source": [
    "tuned_parameters = [{'kernel': ['linear'], 'C': [0.0001,0.001,0.01,0.1, 1, 10]}]\n",
    "clf = GridSearchCV(svm.SVC(), tuned_parameters, cv=5)"
   ]
  },
  {
   "cell_type": "code",
   "execution_count": 35,
   "metadata": {},
   "outputs": [
    {
     "data": {
      "text/plain": [
       "AdaBoostClassifier(algorithm='SAMME',\n",
       "          base_estimator=RandomForestClassifier(bootstrap=True, class_weight=None, criterion='gini',\n",
       "            max_depth=1, max_features='auto', max_leaf_nodes=None,\n",
       "            min_impurity_split=1e-07, min_samples_leaf=1,\n",
       "            min_samples_split=2, min_weight_fraction_leaf=0.0,\n",
       "            n_estimators=10, n_jobs=1, oob_score=False, random_state=None,\n",
       "            verbose=0, warm_start=False),\n",
       "          learning_rate=1.0, n_estimators=200, random_state=None)"
      ]
     },
     "execution_count": 35,
     "metadata": {},
     "output_type": "execute_result"
    }
   ],
   "source": [
    "#clf = svm.SVC(kernel='linear',C=0.1)\n",
    "clf = AdaBoostClassifier(RandomForestClassifier(max_depth=1),\n",
    "                         algorithm=\"SAMME\",\n",
    "                         n_estimators=200)\n",
    "#clf = RandomForestClassifier()\n",
    "clf.fit(X_train, y_train)\n",
    "#print(clf.best_params_)"
   ]
  },
  {
   "cell_type": "code",
   "execution_count": 36,
   "metadata": {},
   "outputs": [],
   "source": [
    "y_pred = clf.predict(X_toTest)\n",
    "#y_pred = clf.predict(X_test)\n",
    "#acc = accuracy_score(y_test,y_pred)\n",
    "#acc"
   ]
  },
  {
   "cell_type": "code",
   "execution_count": 37,
   "metadata": {
    "collapsed": true
   },
   "outputs": [],
   "source": [
    "df_result['Survived'] = y_pred\n",
    "df_result.to_csv('submission.csv')"
   ]
  },
  {
   "cell_type": "code",
   "execution_count": null,
   "metadata": {
    "collapsed": true
   },
   "outputs": [],
   "source": []
  }
 ],
 "metadata": {
  "kernelspec": {
   "display_name": "Python 2",
   "language": "python",
   "name": "python2"
  },
  "language_info": {
   "codemirror_mode": {
    "name": "ipython",
    "version": 2
   },
   "file_extension": ".py",
   "mimetype": "text/x-python",
   "name": "python",
   "nbconvert_exporter": "python",
   "pygments_lexer": "ipython2",
   "version": "2.7.13"
  }
 },
 "nbformat": 4,
 "nbformat_minor": 2
}
