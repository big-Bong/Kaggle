{
 "cells": [
  {
   "cell_type": "code",
   "execution_count": 1,
   "id": "preliminary-perfume",
   "metadata": {},
   "outputs": [],
   "source": [
    "import keras\n",
    "from keras.datasets import mnist"
   ]
  },
  {
   "cell_type": "code",
   "execution_count": 2,
   "id": "scheduled-ending",
   "metadata": {},
   "outputs": [],
   "source": [
    "import numpy as np\n",
    "from PIL import Image, ImageOps\n",
    "import os"
   ]
  },
  {
   "cell_type": "code",
   "execution_count": 3,
   "id": "rural-native",
   "metadata": {},
   "outputs": [],
   "source": [
    "def save_image(filename, data_array):\n",
    "    im = Image.fromarray(data_array.astype('uint8'))\n",
    "    im_invert = ImageOps.invert(im)\n",
    "    im_invert.save(filename)"
   ]
  },
  {
   "cell_type": "code",
   "execution_count": 8,
   "id": "numeric-dealing",
   "metadata": {},
   "outputs": [],
   "source": [
    "def createTrainFolderImages(DIR_NAME,x_train,y_train):\n",
    "    DIR_NAME += \"/train\"\n",
    "    if(os.path.exists(DIR_NAME) == False):\n",
    "        os.mkdir(DIR_NAME)\n",
    "    \n",
    "    for i in range(len(x_train)):\n",
    "        SUB_DIR = DIR_NAME+\"/\"+str(y_train[i])\n",
    "        if(os.path.exists(SUB_DIR) == False):\n",
    "            os.mkdir(SUB_DIR)\n",
    "        filename = \"{0}/{1:05d}.jpg\".format(SUB_DIR,i)\n",
    "        save_image(filename,x_train[i])"
   ]
  },
  {
   "cell_type": "code",
   "execution_count": 9,
   "id": "personalized-painting",
   "metadata": {},
   "outputs": [],
   "source": [
    "def createTestFolderImages(DIR_NAME,x_test,y_test):\n",
    "    DIR_NAME += \"/test\"\n",
    "    if(os.path.exists(DIR_NAME) == False):\n",
    "        os.mkdir(DIR_NAME)\n",
    "    \n",
    "    for i in range(len(x_test)):\n",
    "        SUB_DIR = DIR_NAME+\"/\"+str(y_test[i])\n",
    "        if(os.path.exists(SUB_DIR) == False):\n",
    "            os.mkdir(SUB_DIR)\n",
    "        filename = \"{0}/{1:05d}.jpg\".format(SUB_DIR,i)\n",
    "        save_image(filename,x_test[i])"
   ]
  },
  {
   "cell_type": "code",
   "execution_count": 4,
   "id": "third-focus",
   "metadata": {},
   "outputs": [],
   "source": [
    "(x_train,y_train),(x_test,y_test) = mnist.load_data()"
   ]
  },
  {
   "cell_type": "code",
   "execution_count": 7,
   "id": "boolean-caution",
   "metadata": {},
   "outputs": [],
   "source": [
    "DIR_NAME=\"./../../data/mnist_images\"\n",
    "if(os.path.exists(DIR_NAME) == False):\n",
    "    os.mkdir(DIR_NAME)"
   ]
  },
  {
   "cell_type": "code",
   "execution_count": 12,
   "id": "theoretical-german",
   "metadata": {},
   "outputs": [],
   "source": [
    "createTrainFolderImages(DIR_NAME,x_train,y_train)"
   ]
  },
  {
   "cell_type": "code",
   "execution_count": 11,
   "id": "golden-asian",
   "metadata": {},
   "outputs": [],
   "source": [
    "createTestFolderImages(DIR_NAME,x_test,y_test)"
   ]
  },
  {
   "cell_type": "code",
   "execution_count": null,
   "id": "intelligent-explorer",
   "metadata": {},
   "outputs": [],
   "source": []
  }
 ],
 "metadata": {
  "kernelspec": {
   "display_name": "dl_env",
   "language": "python",
   "name": "dl_env"
  },
  "language_info": {
   "codemirror_mode": {
    "name": "ipython",
    "version": 3
   },
   "file_extension": ".py",
   "mimetype": "text/x-python",
   "name": "python",
   "nbconvert_exporter": "python",
   "pygments_lexer": "ipython3",
   "version": "3.8.10"
  }
 },
 "nbformat": 4,
 "nbformat_minor": 5
}
